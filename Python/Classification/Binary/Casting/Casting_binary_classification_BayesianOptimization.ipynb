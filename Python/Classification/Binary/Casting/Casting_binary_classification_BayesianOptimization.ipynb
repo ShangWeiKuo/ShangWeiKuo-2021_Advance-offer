{
  "nbformat": 4,
  "nbformat_minor": 0,
  "metadata": {
    "colab": {
      "name": "Casting binary classification_BayesianOptimization.ipynb",
      "provenance": [],
      "collapsed_sections": [],
      "mount_file_id": "188vM0bJwf-J8pNZXH7RpvG1bwJpW89ie",
      "authorship_tag": "ABX9TyMYfAKBgV/K9AEqx4X/QWT3",
      "include_colab_link": true
    },
    "kernelspec": {
      "name": "python3",
      "display_name": "Python 3"
    },
    "language_info": {
      "name": "python"
    }
  },
  "cells": [
    {
      "cell_type": "markdown",
      "metadata": {
        "id": "view-in-github",
        "colab_type": "text"
      },
      "source": [
        "<a href=\"https://colab.research.google.com/github/ShangWeiKuo/ShangWeiKuo-2022_Advance-offer/blob/master/Python/Classification/Binary/Casting/Casting_binary_classification_BayesianOptimization.ipynb\" target=\"_parent\"><img src=\"https://colab.research.google.com/assets/colab-badge.svg\" alt=\"Open In Colab\"/></a>"
      ]
    },
    {
      "cell_type": "code",
      "metadata": {
        "colab": {
          "base_uri": "https://localhost:8080/"
        },
        "id": "SXC8DMY1X71L",
        "outputId": "2f9fddc7-d303-404b-e535-766452e95195"
      },
      "source": [
        "!pip install keras-hypetune\n",
        "!pip install keras-tuner"
      ],
      "execution_count": null,
      "outputs": [
        {
          "output_type": "stream",
          "name": "stdout",
          "text": [
            "Collecting keras-hypetune\n",
            "  Downloading keras_hypetune-0.1.3-py3-none-any.whl (10 kB)\n",
            "Requirement already satisfied: numpy in /usr/local/lib/python3.7/dist-packages (from keras-hypetune) (1.19.5)\n",
            "Installing collected packages: keras-hypetune\n",
            "Successfully installed keras-hypetune-0.1.3\n",
            "Collecting keras-tuner\n",
            "  Downloading keras_tuner-1.0.4-py3-none-any.whl (97 kB)\n",
            "\u001b[K     |████████████████████████████████| 97 kB 2.6 MB/s \n",
            "\u001b[?25hRequirement already satisfied: requests in /usr/local/lib/python3.7/dist-packages (from keras-tuner) (2.23.0)\n",
            "Requirement already satisfied: ipython in /usr/local/lib/python3.7/dist-packages (from keras-tuner) (5.5.0)\n",
            "Requirement already satisfied: packaging in /usr/local/lib/python3.7/dist-packages (from keras-tuner) (21.0)\n",
            "Requirement already satisfied: tensorboard in /usr/local/lib/python3.7/dist-packages (from keras-tuner) (2.6.0)\n",
            "Collecting kt-legacy\n",
            "  Downloading kt_legacy-1.0.4-py3-none-any.whl (9.6 kB)\n",
            "Requirement already satisfied: scipy in /usr/local/lib/python3.7/dist-packages (from keras-tuner) (1.4.1)\n",
            "Requirement already satisfied: numpy in /usr/local/lib/python3.7/dist-packages (from keras-tuner) (1.19.5)\n",
            "Requirement already satisfied: simplegeneric>0.8 in /usr/local/lib/python3.7/dist-packages (from ipython->keras-tuner) (0.8.1)\n",
            "Requirement already satisfied: decorator in /usr/local/lib/python3.7/dist-packages (from ipython->keras-tuner) (4.4.2)\n",
            "Requirement already satisfied: pexpect in /usr/local/lib/python3.7/dist-packages (from ipython->keras-tuner) (4.8.0)\n",
            "Requirement already satisfied: prompt-toolkit<2.0.0,>=1.0.4 in /usr/local/lib/python3.7/dist-packages (from ipython->keras-tuner) (1.0.18)\n",
            "Requirement already satisfied: setuptools>=18.5 in /usr/local/lib/python3.7/dist-packages (from ipython->keras-tuner) (57.4.0)\n",
            "Requirement already satisfied: traitlets>=4.2 in /usr/local/lib/python3.7/dist-packages (from ipython->keras-tuner) (5.1.0)\n",
            "Requirement already satisfied: pickleshare in /usr/local/lib/python3.7/dist-packages (from ipython->keras-tuner) (0.7.5)\n",
            "Requirement already satisfied: pygments in /usr/local/lib/python3.7/dist-packages (from ipython->keras-tuner) (2.6.1)\n",
            "Requirement already satisfied: six>=1.9.0 in /usr/local/lib/python3.7/dist-packages (from prompt-toolkit<2.0.0,>=1.0.4->ipython->keras-tuner) (1.15.0)\n",
            "Requirement already satisfied: wcwidth in /usr/local/lib/python3.7/dist-packages (from prompt-toolkit<2.0.0,>=1.0.4->ipython->keras-tuner) (0.2.5)\n",
            "Requirement already satisfied: pyparsing>=2.0.2 in /usr/local/lib/python3.7/dist-packages (from packaging->keras-tuner) (2.4.7)\n",
            "Requirement already satisfied: ptyprocess>=0.5 in /usr/local/lib/python3.7/dist-packages (from pexpect->ipython->keras-tuner) (0.7.0)\n",
            "Requirement already satisfied: urllib3!=1.25.0,!=1.25.1,<1.26,>=1.21.1 in /usr/local/lib/python3.7/dist-packages (from requests->keras-tuner) (1.24.3)\n",
            "Requirement already satisfied: idna<3,>=2.5 in /usr/local/lib/python3.7/dist-packages (from requests->keras-tuner) (2.10)\n",
            "Requirement already satisfied: certifi>=2017.4.17 in /usr/local/lib/python3.7/dist-packages (from requests->keras-tuner) (2021.5.30)\n",
            "Requirement already satisfied: chardet<4,>=3.0.2 in /usr/local/lib/python3.7/dist-packages (from requests->keras-tuner) (3.0.4)\n",
            "Requirement already satisfied: protobuf>=3.6.0 in /usr/local/lib/python3.7/dist-packages (from tensorboard->keras-tuner) (3.17.3)\n",
            "Requirement already satisfied: tensorboard-data-server<0.7.0,>=0.6.0 in /usr/local/lib/python3.7/dist-packages (from tensorboard->keras-tuner) (0.6.1)\n",
            "Requirement already satisfied: tensorboard-plugin-wit>=1.6.0 in /usr/local/lib/python3.7/dist-packages (from tensorboard->keras-tuner) (1.8.0)\n",
            "Requirement already satisfied: wheel>=0.26 in /usr/local/lib/python3.7/dist-packages (from tensorboard->keras-tuner) (0.37.0)\n",
            "Requirement already satisfied: google-auth<2,>=1.6.3 in /usr/local/lib/python3.7/dist-packages (from tensorboard->keras-tuner) (1.35.0)\n",
            "Requirement already satisfied: absl-py>=0.4 in /usr/local/lib/python3.7/dist-packages (from tensorboard->keras-tuner) (0.12.0)\n",
            "Requirement already satisfied: grpcio>=1.24.3 in /usr/local/lib/python3.7/dist-packages (from tensorboard->keras-tuner) (1.40.0)\n",
            "Requirement already satisfied: werkzeug>=0.11.15 in /usr/local/lib/python3.7/dist-packages (from tensorboard->keras-tuner) (1.0.1)\n",
            "Requirement already satisfied: markdown>=2.6.8 in /usr/local/lib/python3.7/dist-packages (from tensorboard->keras-tuner) (3.3.4)\n",
            "Requirement already satisfied: google-auth-oauthlib<0.5,>=0.4.1 in /usr/local/lib/python3.7/dist-packages (from tensorboard->keras-tuner) (0.4.6)\n",
            "Requirement already satisfied: rsa<5,>=3.1.4 in /usr/local/lib/python3.7/dist-packages (from google-auth<2,>=1.6.3->tensorboard->keras-tuner) (4.7.2)\n",
            "Requirement already satisfied: pyasn1-modules>=0.2.1 in /usr/local/lib/python3.7/dist-packages (from google-auth<2,>=1.6.3->tensorboard->keras-tuner) (0.2.8)\n",
            "Requirement already satisfied: cachetools<5.0,>=2.0.0 in /usr/local/lib/python3.7/dist-packages (from google-auth<2,>=1.6.3->tensorboard->keras-tuner) (4.2.2)\n",
            "Requirement already satisfied: requests-oauthlib>=0.7.0 in /usr/local/lib/python3.7/dist-packages (from google-auth-oauthlib<0.5,>=0.4.1->tensorboard->keras-tuner) (1.3.0)\n",
            "Requirement already satisfied: importlib-metadata in /usr/local/lib/python3.7/dist-packages (from markdown>=2.6.8->tensorboard->keras-tuner) (4.8.1)\n",
            "Requirement already satisfied: pyasn1<0.5.0,>=0.4.6 in /usr/local/lib/python3.7/dist-packages (from pyasn1-modules>=0.2.1->google-auth<2,>=1.6.3->tensorboard->keras-tuner) (0.4.8)\n",
            "Requirement already satisfied: oauthlib>=3.0.0 in /usr/local/lib/python3.7/dist-packages (from requests-oauthlib>=0.7.0->google-auth-oauthlib<0.5,>=0.4.1->tensorboard->keras-tuner) (3.1.1)\n",
            "Requirement already satisfied: zipp>=0.5 in /usr/local/lib/python3.7/dist-packages (from importlib-metadata->markdown>=2.6.8->tensorboard->keras-tuner) (3.5.0)\n",
            "Requirement already satisfied: typing-extensions>=3.6.4 in /usr/local/lib/python3.7/dist-packages (from importlib-metadata->markdown>=2.6.8->tensorboard->keras-tuner) (3.7.4.3)\n",
            "Installing collected packages: kt-legacy, keras-tuner\n",
            "Successfully installed keras-tuner-1.0.4 kt-legacy-1.0.4\n"
          ]
        }
      ]
    },
    {
      "cell_type": "code",
      "metadata": {
        "id": "qKM8N8j_6dXZ",
        "colab": {
          "base_uri": "https://localhost:8080/"
        },
        "outputId": "85a19f35-a706-4540-bec7-a1cc207edca4"
      },
      "source": [
        "import os\n",
        "import numpy as np\n",
        "import pandas as pd\n",
        "import matplotlib.pyplot as plt\n",
        "from matplotlib import cm, pyplot\n",
        "import cv2\n",
        "import tensorflow as tf\n",
        "import keras\n",
        "from keras.models import Sequential, Model\n",
        "from keras.layers import Input, Dense, Activation, Dropout, Conv2D, MaxPooling2D, Flatten, BatchNormalization\n",
        "from keras.callbacks import EarlyStopping\n",
        "from tensorflow.keras.optimizers import Adam\n",
        "from keras.applications import imagenet_utils\n",
        "from keras.preprocessing.image import ImageDataGenerator\n",
        "from sklearn.metrics import auc, roc_curve, roc_auc_score, confusion_matrix, classification_report\n",
        "import keras_tuner as kt\n",
        "from kerastuner.tuners import BayesianOptimization"
      ],
      "execution_count": null,
      "outputs": [
        {
          "output_type": "stream",
          "name": "stderr",
          "text": [
            "/usr/local/lib/python3.7/dist-packages/ipykernel_launcher.py:17: DeprecationWarning: `import kerastuner` is deprecated, please use `import keras_tuner`.\n"
          ]
        }
      ]
    },
    {
      "cell_type": "code",
      "metadata": {
        "id": "Y7mIF5YkqIwG"
      },
      "source": [
        "train_path = '/content/drive/MyDrive/Anomaly detection/casting_data/train'\n",
        "test_path = '/content/drive/MyDrive/Anomaly detection/casting_data/test'"
      ],
      "execution_count": null,
      "outputs": []
    },
    {
      "cell_type": "code",
      "metadata": {
        "id": "Sh6P1pqmgBXx"
      },
      "source": [
        "BATCH_SIZE = 32"
      ],
      "execution_count": null,
      "outputs": []
    },
    {
      "cell_type": "code",
      "metadata": {
        "colab": {
          "base_uri": "https://localhost:8080/"
        },
        "id": "IOnT9gJHqKk0",
        "outputId": "2cb8f0c5-e413-4d3f-8ba3-8cb234fef618"
      },
      "source": [
        "train = tf.keras.preprocessing.image.ImageDataGenerator(rescale=1./255,\n",
        "                             shear_range=0.2, \n",
        "                             zoom_range=0.2,\n",
        "                             horizontal_flip=True, \n",
        "                             vertical_flip=True, \n",
        "                             validation_split=0.3)\n",
        "\n",
        "test = tf.keras.preprocessing.image.ImageDataGenerator(rescale=1./255)\n",
        "\n",
        "training_set = train.flow_from_directory(train_path, \n",
        "                      target_size=(224, 224), \n",
        "                      class_mode = 'binary', \n",
        "                      classes=['ok_front', 'def_front'], \n",
        "                      shuffle=True, \n",
        "                      batch_size=BATCH_SIZE,\n",
        "                      color_mode=\"grayscale\",\n",
        "                      subset='training')\n",
        "\n",
        "val_set = train.flow_from_directory(train_path, \n",
        "                   target_size=(224, 224), \n",
        "                   class_mode = 'binary', \n",
        "                   classes=['ok_front', 'def_front'], \n",
        "                   shuffle=False, \n",
        "                   batch_size=BATCH_SIZE,\n",
        "                   color_mode=\"grayscale\",\n",
        "                   subset='validation')\n",
        "\n",
        "test_set = test.flow_from_directory(test_path, \n",
        "                   target_size=(224, 224), \n",
        "                   class_mode = 'binary', \n",
        "                   classes=['ok_front', 'def_front'], \n",
        "                   shuffle=False, \n",
        "                   batch_size=BATCH_SIZE,\n",
        "                   color_mode=\"grayscale\")"
      ],
      "execution_count": null,
      "outputs": [
        {
          "output_type": "stream",
          "name": "stdout",
          "text": [
            "Found 4644 images belonging to 2 classes.\n",
            "Found 1989 images belonging to 2 classes.\n",
            "Found 715 images belonging to 2 classes.\n"
          ]
        }
      ]
    },
    {
      "cell_type": "code",
      "metadata": {
        "colab": {
          "base_uri": "https://localhost:8080/"
        },
        "id": "5u0WW_fDutis",
        "outputId": "17d2742d-4de4-43bf-9e59-0737ce66356e"
      },
      "source": [
        "training_set.class_indices"
      ],
      "execution_count": null,
      "outputs": [
        {
          "output_type": "execute_result",
          "data": {
            "text/plain": [
              "{'def_front': 1, 'ok_front': 0}"
            ]
          },
          "metadata": {},
          "execution_count": 6
        }
      ]
    },
    {
      "cell_type": "code",
      "metadata": {
        "colab": {
          "base_uri": "https://localhost:8080/"
        },
        "id": "NI0ztakXut3y",
        "outputId": "cadf250e-2682-48e4-ef9f-2877d7c38f4d"
      },
      "source": [
        "test_set.class_indices"
      ],
      "execution_count": null,
      "outputs": [
        {
          "output_type": "execute_result",
          "data": {
            "text/plain": [
              "{'def_front': 1, 'ok_front': 0}"
            ]
          },
          "metadata": {},
          "execution_count": 7
        }
      ]
    },
    {
      "cell_type": "code",
      "metadata": {
        "id": "fV_9N-WuG4bu"
      },
      "source": [
        "def create_model(hp):\n",
        "\n",
        "  input_shape = (224,224) + (1, )\n",
        "  input = Input(input_shape, name='input')\n",
        "  # Add a first layer\n",
        "  layer = Conv2D(hp.Int('conv1', min_value=8, max_value=64, step=8), (3,3), activation='relu', padding='same')(input)\n",
        "  layer = BatchNormalization()(layer)\n",
        "  layer = MaxPooling2D(pool_size=(2,2), strides=2)(layer)\n",
        "\n",
        "  # Add a second layer\n",
        "  layer = Conv2D(hp.Int('conv2', min_value=8, max_value=64, step=8), (3,3), activation='relu', padding='same')(layer)\n",
        "  layer = BatchNormalization()(layer)\n",
        "  layer = MaxPooling2D(pool_size=(2,2), strides=2)(layer)\n",
        "\n",
        "  # Add a third layer\n",
        "  layer = Conv2D(hp.Int('conv3', min_value=8, max_value=64, step=8), (3,3), activation='relu', padding='same')(layer)\n",
        "  layer = BatchNormalization()(layer)\n",
        "  layer = MaxPooling2D(pool_size=(2,2), strides=2)(layer)\n",
        "\n",
        "  # Flattening\n",
        "  layer = Flatten(name='flatten')(layer)\n",
        "\n",
        "  # Add a hidden layer\n",
        "  layer = Dense(hp.Int('units', min_value=32, max_value=128, step=32), activation='relu')(layer)\n",
        "\n",
        "  output = Dense(1, activation='sigmoid')(layer)\n",
        "\n",
        "  model = Model(inputs=[input], outputs=[output])\n",
        "  model.summary()\n",
        "  model.compile(Adam(hp.Choice('learning_rate', values=[1e-4, 1e-3])), loss='binary_crossentropy', metrics=['binary_accuracy'])\n",
        "\n",
        "  return model"
      ],
      "execution_count": null,
      "outputs": []
    },
    {
      "cell_type": "code",
      "metadata": {
        "id": "zj15S7hAkxHf"
      },
      "source": [
        "es = EarlyStopping(monitor='val_loss', verbose=2, patience=10,  restore_best_weights=True)"
      ],
      "execution_count": null,
      "outputs": []
    },
    {
      "cell_type": "code",
      "metadata": {
        "colab": {
          "base_uri": "https://localhost:8080/"
        },
        "id": "mJzIpHzsIjOe",
        "outputId": "a8377df2-9c80-40a7-c625-2b9be0fd0e1a"
      },
      "source": [
        "hyper_model = create_model\n",
        "bayes = kt.tuners.BayesianOptimization(hyper_model, objective='binary_accuracy', seed=2021, max_trials=3)\n",
        "bayes.search(training_set, epochs=20, validation_data=val_set, batch_size=BATCH_SIZE, callbacks=[es])"
      ],
      "execution_count": null,
      "outputs": [
        {
          "output_type": "stream",
          "name": "stdout",
          "text": [
            "Trial 3 Complete [00h 18m 13s]\n",
            "binary_accuracy: 0.9933246970176697\n",
            "\n",
            "Best binary_accuracy So Far: 0.994616687297821\n",
            "Total elapsed time: 02h 01m 33s\n",
            "INFO:tensorflow:Oracle triggered exit\n"
          ]
        }
      ]
    },
    {
      "cell_type": "code",
      "metadata": {
        "id": "87ANKDY85pHl"
      },
      "source": [
        "# Get best hyperparameters\n",
        "bestHP = bayes.get_best_hyperparameters(num_trials=1)[0]"
      ],
      "execution_count": null,
      "outputs": []
    },
    {
      "cell_type": "code",
      "metadata": {
        "colab": {
          "base_uri": "https://localhost:8080/"
        },
        "id": "z3Kh-i7j7q-3",
        "outputId": "2b0e790f-c8f6-4075-c68c-d2da8551a13c"
      },
      "source": [
        "# Call model and train the model\n",
        "model = bayes.hypermodel.build(bestHP)\n",
        "History = model.fit_generator(training_set, steps_per_epoch=training_set.n//BATCH_SIZE, validation_data=val_set, validation_steps=val_set.n//BATCH_SIZE, epochs=50, verbose=2, workers=8, callbacks=[es])"
      ],
      "execution_count": null,
      "outputs": [
        {
          "output_type": "stream",
          "name": "stdout",
          "text": [
            "Model: \"model\"\n",
            "_________________________________________________________________\n",
            "Layer (type)                 Output Shape              Param #   \n",
            "=================================================================\n",
            "input (InputLayer)           [(None, 224, 224, 1)]     0         \n",
            "_________________________________________________________________\n",
            "conv2d (Conv2D)              (None, 224, 224, 56)      560       \n",
            "_________________________________________________________________\n",
            "batch_normalization (BatchNo (None, 224, 224, 56)      224       \n",
            "_________________________________________________________________\n",
            "max_pooling2d (MaxPooling2D) (None, 112, 112, 56)      0         \n",
            "_________________________________________________________________\n",
            "conv2d_1 (Conv2D)            (None, 112, 112, 40)      20200     \n",
            "_________________________________________________________________\n",
            "batch_normalization_1 (Batch (None, 112, 112, 40)      160       \n",
            "_________________________________________________________________\n",
            "max_pooling2d_1 (MaxPooling2 (None, 56, 56, 40)        0         \n",
            "_________________________________________________________________\n",
            "conv2d_2 (Conv2D)            (None, 56, 56, 32)        11552     \n",
            "_________________________________________________________________\n",
            "batch_normalization_2 (Batch (None, 56, 56, 32)        128       \n",
            "_________________________________________________________________\n",
            "max_pooling2d_2 (MaxPooling2 (None, 28, 28, 32)        0         \n",
            "_________________________________________________________________\n",
            "flatten (Flatten)            (None, 25088)             0         \n",
            "_________________________________________________________________\n",
            "dense (Dense)                (None, 64)                1605696   \n",
            "_________________________________________________________________\n",
            "dense_1 (Dense)              (None, 1)                 65        \n",
            "=================================================================\n",
            "Total params: 1,638,585\n",
            "Trainable params: 1,638,329\n",
            "Non-trainable params: 256\n",
            "_________________________________________________________________\n"
          ]
        },
        {
          "output_type": "stream",
          "name": "stderr",
          "text": [
            "/usr/local/lib/python3.7/dist-packages/keras/engine/training.py:1972: UserWarning: `Model.fit_generator` is deprecated and will be removed in a future version. Please use `Model.fit`, which supports generators.\n",
            "  warnings.warn('`Model.fit_generator` is deprecated and '\n"
          ]
        },
        {
          "output_type": "stream",
          "name": "stdout",
          "text": [
            "Epoch 1/50\n",
            "145/145 - 39s - loss: 0.4132 - binary_accuracy: 0.8170 - val_loss: 0.8830 - val_binary_accuracy: 0.5655\n",
            "Epoch 2/50\n",
            "145/145 - 38s - loss: 0.2453 - binary_accuracy: 0.8946 - val_loss: 1.2713 - val_binary_accuracy: 0.5655\n",
            "Epoch 3/50\n",
            "145/145 - 38s - loss: 0.1580 - binary_accuracy: 0.9393 - val_loss: 1.3411 - val_binary_accuracy: 0.5655\n",
            "Epoch 4/50\n",
            "145/145 - 38s - loss: 0.1300 - binary_accuracy: 0.9514 - val_loss: 0.7328 - val_binary_accuracy: 0.6608\n",
            "Epoch 5/50\n",
            "145/145 - 38s - loss: 0.0872 - binary_accuracy: 0.9701 - val_loss: 0.1495 - val_binary_accuracy: 0.9395\n",
            "Epoch 6/50\n",
            "145/145 - 38s - loss: 0.0666 - binary_accuracy: 0.9770 - val_loss: 0.1557 - val_binary_accuracy: 0.9385\n",
            "Epoch 7/50\n",
            "145/145 - 37s - loss: 0.0533 - binary_accuracy: 0.9816 - val_loss: 0.1273 - val_binary_accuracy: 0.9526\n",
            "Epoch 8/50\n",
            "145/145 - 37s - loss: 0.0447 - binary_accuracy: 0.9859 - val_loss: 0.1129 - val_binary_accuracy: 0.9511\n",
            "Epoch 9/50\n",
            "145/145 - 38s - loss: 0.0416 - binary_accuracy: 0.9879 - val_loss: 0.0637 - val_binary_accuracy: 0.9778\n",
            "Epoch 10/50\n",
            "145/145 - 39s - loss: 0.0386 - binary_accuracy: 0.9883 - val_loss: 0.1552 - val_binary_accuracy: 0.9340\n",
            "Epoch 11/50\n",
            "145/145 - 38s - loss: 0.0367 - binary_accuracy: 0.9885 - val_loss: 0.1690 - val_binary_accuracy: 0.9224\n",
            "Epoch 12/50\n",
            "145/145 - 38s - loss: 0.0596 - binary_accuracy: 0.9775 - val_loss: 0.0496 - val_binary_accuracy: 0.9839\n",
            "Epoch 13/50\n",
            "145/145 - 38s - loss: 0.0320 - binary_accuracy: 0.9902 - val_loss: 0.0643 - val_binary_accuracy: 0.9748\n",
            "Epoch 14/50\n",
            "145/145 - 38s - loss: 0.0251 - binary_accuracy: 0.9920 - val_loss: 0.0388 - val_binary_accuracy: 0.9904\n",
            "Epoch 15/50\n",
            "145/145 - 38s - loss: 0.0230 - binary_accuracy: 0.9924 - val_loss: 0.8994 - val_binary_accuracy: 0.7344\n",
            "Epoch 16/50\n",
            "145/145 - 38s - loss: 0.0300 - binary_accuracy: 0.9898 - val_loss: 0.0517 - val_binary_accuracy: 0.9814\n",
            "Epoch 17/50\n",
            "145/145 - 38s - loss: 0.0304 - binary_accuracy: 0.9887 - val_loss: 0.0264 - val_binary_accuracy: 0.9919\n",
            "Epoch 18/50\n",
            "145/145 - 38s - loss: 0.0176 - binary_accuracy: 0.9961 - val_loss: 0.0420 - val_binary_accuracy: 0.9899\n",
            "Epoch 19/50\n",
            "145/145 - 38s - loss: 0.0215 - binary_accuracy: 0.9928 - val_loss: 0.7659 - val_binary_accuracy: 0.8443\n",
            "Epoch 20/50\n",
            "145/145 - 38s - loss: 0.0346 - binary_accuracy: 0.9887 - val_loss: 0.0767 - val_binary_accuracy: 0.9713\n",
            "Epoch 21/50\n",
            "145/145 - 38s - loss: 0.0161 - binary_accuracy: 0.9954 - val_loss: 0.5168 - val_binary_accuracy: 0.8609\n",
            "Epoch 22/50\n",
            "145/145 - 38s - loss: 0.0205 - binary_accuracy: 0.9922 - val_loss: 0.0330 - val_binary_accuracy: 0.9934\n",
            "Epoch 23/50\n",
            "145/145 - 38s - loss: 0.0237 - binary_accuracy: 0.9937 - val_loss: 0.0396 - val_binary_accuracy: 0.9889\n",
            "Epoch 24/50\n",
            "145/145 - 38s - loss: 0.0592 - binary_accuracy: 0.9781 - val_loss: 0.3485 - val_binary_accuracy: 0.8735\n",
            "Epoch 25/50\n",
            "145/145 - 38s - loss: 0.0261 - binary_accuracy: 0.9920 - val_loss: 0.1270 - val_binary_accuracy: 0.9496\n",
            "Epoch 26/50\n",
            "145/145 - 37s - loss: 0.0199 - binary_accuracy: 0.9939 - val_loss: 0.0480 - val_binary_accuracy: 0.9854\n",
            "Epoch 27/50\n",
            "145/145 - 37s - loss: 0.0197 - binary_accuracy: 0.9937 - val_loss: 0.0748 - val_binary_accuracy: 0.9713\n",
            "Restoring model weights from the end of the best epoch.\n",
            "Epoch 00027: early stopping\n"
          ]
        }
      ]
    },
    {
      "cell_type": "code",
      "metadata": {
        "id": "Jc0oht-Z3bED"
      },
      "source": [
        "# Save model\n",
        "model.save(\"/content/drive/MyDrive/Anomaly detection/casting_nn_model.h5\")"
      ],
      "execution_count": null,
      "outputs": []
    },
    {
      "cell_type": "code",
      "metadata": {
        "id": "WWtS0rvRIl_c",
        "colab": {
          "base_uri": "https://localhost:8080/",
          "height": 573
        },
        "outputId": "bdb23c4c-b77b-46bc-c901-dfa02e6bb6d5"
      },
      "source": [
        "# Loss plot\n",
        "plt.plot(History.history['loss'])\n",
        "plt.plot(History.history['val_loss'])\n",
        "plt.title('model loss')\n",
        "plt.ylabel('loss')\n",
        "plt.xlabel('epoch')\n",
        "plt.legend(['train', 'validation'], loc='upper left')\n",
        "plt.show()\n",
        "\n",
        "# Accuracy plot \n",
        "plt.plot(History.history['binary_accuracy'])\n",
        "plt.plot(History.history['val_binary_accuracy'])\n",
        "plt.title('model accuracy')\n",
        "plt.ylabel('accuracy')\n",
        "plt.xlabel('epoch')\n",
        "plt.legend(['train', 'validation'], loc='upper left')\n",
        "plt.show()"
      ],
      "execution_count": null,
      "outputs": [
        {
          "output_type": "display_data",
          "data": {
            "image/png": "[encoded data removed]",
            "text/plain": [
              "<Figure size 432x288 with 1 Axes>"
            ]
          },
          "metadata": {
            "needs_background": "light"
          }
        },
        {
          "output_type": "display_data",
          "data": {
            "image/png": "[encoded data removed]",
            "text/plain": [
              "<Figure size 432x288 with 1 Axes>"
            ]
          },
          "metadata": {
            "needs_background": "light"
          }
        }
      ]
    },
    {
      "cell_type": "code",
      "metadata": {
        "id": "irVOFlmOJVsU",
        "colab": {
          "base_uri": "https://localhost:8080/"
        },
        "outputId": "945933af-e118-40e8-b58e-594d8f2783b4"
      },
      "source": [
        "# Evaluation 1 - Training data\n",
        "scores_train = model.evaluate(training_set, steps=training_set.n//BATCH_SIZE)\n",
        "print(\"Accuracy: \", round(scores_train[1], 3))"
      ],
      "execution_count": null,
      "outputs": [
        {
          "output_type": "stream",
          "name": "stdout",
          "text": [
            "145/145 [==============================] - 34s 232ms/step - loss: 0.0199 - binary_accuracy: 0.9953\n",
            "Accuracy:  0.995\n"
          ]
        }
      ]
    },
    {
      "cell_type": "code",
      "metadata": {
        "id": "4iVcmcmqO4G7",
        "colab": {
          "base_uri": "https://localhost:8080/"
        },
        "outputId": "4f458db5-5114-4e87-faf4-4a8b06c0edfd"
      },
      "source": [
        "# Evaluation 2 - Validataion data\n",
        "scores_val = model.evaluate(val_set, steps=val_set.n//BATCH_SIZE)\n",
        "print(\"Accuracy: \", round(scores_val[1], 3))"
      ],
      "execution_count": null,
      "outputs": [
        {
          "output_type": "stream",
          "name": "stdout",
          "text": [
            "62/62 [==============================] - 14s 231ms/step - loss: 0.0314 - binary_accuracy: 0.9929\n",
            "Accuracy:  0.993\n"
          ]
        }
      ]
    },
    {
      "cell_type": "code",
      "metadata": {
        "colab": {
          "base_uri": "https://localhost:8080/"
        },
        "id": "lVyaLmi5RKFS",
        "outputId": "e27ff144-af21-44a0-bf08-7977320359db"
      },
      "source": [
        "# Evaluation 3 - Testing data\n",
        "scores_test = model.evaluate(test_set, steps=test_set.n//BATCH_SIZE)\n",
        "print(\"Accuracy: \", round(scores_test[1], 3))"
      ],
      "execution_count": null,
      "outputs": [
        {
          "output_type": "stream",
          "name": "stdout",
          "text": [
            "22/22 [==============================] - 398s 19s/step - loss: 0.0102 - binary_accuracy: 0.9972\n",
            "Accuracy:  0.997\n"
          ]
        }
      ]
    },
    {
      "cell_type": "code",
      "metadata": {
        "id": "G_Glq4pVPGPj",
        "colab": {
          "base_uri": "https://localhost:8080/",
          "height": 80
        },
        "outputId": "2d4709df-23c4-466c-bbfc-62a8dbb5099b"
      },
      "source": [
        "# Evaluation - Overview\n",
        "eval_df = np.array(\n",
        "            [\n",
        "              [round(scores_train[1], 3), round(scores_val[1], 3), round(scores_test[1], 3)]\n",
        "            ]\n",
        "          )\n",
        "\n",
        "eval_df = pd.DataFrame(eval_df, columns=['Train', 'Validation', 'Test'])\n",
        "rowname = np.array(['Accuracy'])\n",
        "eval_df.index = rowname\n",
        "eval_df"
      ],
      "execution_count": null,
      "outputs": [
        {
          "output_type": "execute_result",
          "data": {
            "text/html": [
              "<div>\n",
              "<style scoped>\n",
              "    .dataframe tbody tr th:only-of-type {\n",
              "        vertical-align: middle;\n",
              "    }\n",
              "\n",
              "    .dataframe tbody tr th {\n",
              "        vertical-align: top;\n",
              "    }\n",
              "\n",
              "    .dataframe thead th {\n",
              "        text-align: right;\n",
              "    }\n",
              "</style>\n",
              "<table border=\"1\" class=\"dataframe\">\n",
              "  <thead>\n",
              "    <tr style=\"text-align: right;\">\n",
              "      <th></th>\n",
              "      <th>Train</th>\n",
              "      <th>Validation</th>\n",
              "      <th>Test</th>\n",
              "    </tr>\n",
              "  </thead>\n",
              "  <tbody>\n",
              "    <tr>\n",
              "      <th>Accuracy</th>\n",
              "      <td>0.995</td>\n",
              "      <td>0.993</td>\n",
              "      <td>0.997</td>\n",
              "    </tr>\n",
              "  </tbody>\n",
              "</table>\n",
              "</div>"
            ],
            "text/plain": [
              "          Train  Validation   Test\n",
              "Accuracy  0.995       0.993  0.997"
            ]
          },
          "metadata": {},
          "execution_count": 18
        }
      ]
    },
    {
      "cell_type": "code",
      "metadata": {
        "id": "oG63NtImpmtp",
        "colab": {
          "base_uri": "https://localhost:8080/"
        },
        "outputId": "379396ff-1c54-4c3e-8950-a3303f03c916"
      },
      "source": [
        "# Evaluation - Confusion Matrix Part 1\n",
        "pred_probs = model.predict_generator(test_set, verbose=1)\n",
        "predictions = pred_probs > 0.5\n",
        "predictions = np.squeeze(predictions, axis=-1).astype(\"int32\")\n",
        "true = test_set.classes"
      ],
      "execution_count": null,
      "outputs": [
        {
          "output_type": "stream",
          "name": "stderr",
          "text": [
            "/usr/local/lib/python3.7/dist-packages/keras/engine/training.py:2035: UserWarning: `Model.predict_generator` is deprecated and will be removed in a future version. Please use `Model.predict`, which supports generators.\n",
            "  warnings.warn('`Model.predict_generator` is deprecated and '\n"
          ]
        },
        {
          "output_type": "stream",
          "name": "stdout",
          "text": [
            "23/23 [==============================] - 3s 127ms/step\n"
          ]
        }
      ]
    },
    {
      "cell_type": "code",
      "metadata": {
        "id": "MPoHEKXHp4zg",
        "colab": {
          "base_uri": "https://localhost:8080/"
        },
        "outputId": "951bbd09-6b88-48c0-a187-56f4c3879371"
      },
      "source": [
        "# Evaluation - Confusion Matrix Part 2\n",
        "confusion_matrix(true, predictions)"
      ],
      "execution_count": null,
      "outputs": [
        {
          "output_type": "execute_result",
          "data": {
            "text/plain": [
              "array([[260,   2],\n",
              "       [  0, 453]])"
            ]
          },
          "metadata": {},
          "execution_count": 20
        }
      ]
    },
    {
      "cell_type": "code",
      "metadata": {
        "id": "YVq7EXIUp6n7",
        "colab": {
          "base_uri": "https://localhost:8080/"
        },
        "outputId": "bae7127d-292c-412b-bde9-8226c0372473"
      },
      "source": [
        "# Evaluation - Confusion Matrix Part 3\n",
        "print(classification_report(true, predictions, digits=3))"
      ],
      "execution_count": null,
      "outputs": [
        {
          "output_type": "stream",
          "name": "stdout",
          "text": [
            "              precision    recall  f1-score   support\n",
            "\n",
            "           0      1.000     0.992     0.996       262\n",
            "           1      0.996     1.000     0.998       453\n",
            "\n",
            "    accuracy                          0.997       715\n",
            "   macro avg      0.998     0.996     0.997       715\n",
            "weighted avg      0.997     0.997     0.997       715\n",
            "\n"
          ]
        }
      ]
    },
    {
      "cell_type": "code",
      "metadata": {
        "id": "qdXsHZ19qCcA"
      },
      "source": [
        "# Evaluation - AUC & ROC Part 1\n",
        "test_auc = roc_auc_score(true, pred_probs)\n",
        "true_probs = [0 for _ in range(len(true))]"
      ],
      "execution_count": null,
      "outputs": []
    },
    {
      "cell_type": "code",
      "metadata": {
        "id": "h5ZqyRtaqHpc",
        "colab": {
          "base_uri": "https://localhost:8080/",
          "height": 279
        },
        "outputId": "c899f004-4250-415b-9346-6f2307592192"
      },
      "source": [
        "# Evaluation - AUC & ROC Part 2\n",
        "\n",
        "# calculate roc curves\n",
        "true_fpr, true_tpr, _ = roc_curve(true, true_probs)\n",
        "pred_fpr, pred_tpr, _ = roc_curve(true, pred_probs)\n",
        "\n",
        "# plot the roc curve for the model\n",
        "pyplot.plot(true_fpr, true_tpr, linestyle='--', label='Baseline')\n",
        "pyplot.plot(pred_fpr, pred_tpr, marker='.', label='model ROC curve (area = %0.2f)' % test_auc)\n",
        "# axis labels\n",
        "pyplot.xlabel('False Positive Rate')\n",
        "pyplot.ylabel('True Positive Rate')\n",
        "# show the legend\n",
        "pyplot.legend(loc=\"lower right\")\n",
        "# show the plot\n",
        "pyplot.show()"
      ],
      "execution_count": null,
      "outputs": [
        {
          "output_type": "display_data",
          "data": {
            "image/png": "[encoded data removed]",
            "text/plain": [
              "<Figure size 432x288 with 1 Axes>"
            ]
          },
          "metadata": {
            "needs_background": "light"
          }
        }
      ]
    }
  ]
}